{
 "cells": [
  {
   "cell_type": "markdown",
   "id": "c4777db5",
   "metadata": {},
   "source": [
    "# Load libraries and packages"
   ]
  },
  {
   "cell_type": "code",
   "execution_count": 9,
   "id": "13ae5284",
   "metadata": {},
   "outputs": [],
   "source": [
    "## general\n",
    "import numpy as np\n",
    "import pandas as pd\n",
    "import xarray as xr\n",
    "import copy\n",
    "import numpy.ma as ma\n",
    "# from itertools import compress\n",
    "# from sklearn.externals import joblib\n",
    "import os\n",
    "import regionmask\n",
    "import time \n",
    "import geopandas\n",
    "import cftime\n",
    "from tqdm import tqdm\n",
    "\n",
    "## plotting\n",
    "import matplotlib.pyplot as plt\n",
    "import matplotlib.patches as mpatches\n",
    "from matplotlib.colors import from_levels_and_colors\n",
    "from matplotlib.lines import Line2D \n",
    "import cartopy.crs as ccrs\n",
    "from matplotlib.colors import LogNorm\n",
    "import mplotutils as mpu\n",
    "\n",
    "## statistics\n",
    "#from statsmodels.nonparametric.smoothers_lowess import lowess # lowess filter\n",
    "from sklearn.linear_model import LinearRegression\n",
    "from scipy.stats import pearsonr\n",
    "\n",
    "# extra stuff for Lea's loading codes\n",
    "import glob\n",
    "from datetime import datetime"
   ]
  },
  {
   "cell_type": "markdown",
   "id": "bdb628f5",
   "metadata": {},
   "source": [
    "# Define functions"
   ]
  },
  {
   "cell_type": "code",
   "execution_count": 10,
   "id": "36580d2b",
   "metadata": {},
   "outputs": [],
   "source": [
    "def norm_cos_wgt(lats):\n",
    "    \n",
    "    from numpy import cos, deg2rad\n",
    "    \n",
    "    return np.cos(np.deg2rad(lats))\n",
    "\n",
    "def moving_average(x, w):\n",
    "    return np.convolve(x, np.ones(w), 'valid') / w"
   ]
  },
  {
   "cell_type": "code",
   "execution_count": 11,
   "id": "576398f5",
   "metadata": {},
   "outputs": [],
   "source": [
    "def load_data_single_mod_mon(gen,model, mon, GMST=False, Tref_all=True,Tref_start='1870-01-01',Tref_end='1900-01-01',usr_time_res=\"ann\"):\n",
    "\n",
    "    \"\"\" Load the all initial-condition members of a single model in cmip5 or cmip6 for given scenario plus associated historical period.\n",
    "\n",
    "    Keyword argument:\n",
    "    gen: generation (cmip5 = 5 and cmip6 = 6 are implemented)\n",
    "    model: model str\n",
    "    mon: month integer, where 1 is Jan, 12 is Dec\n",
    "    scenario: scenario str\n",
    "    GMST: decides if wgt Tanglob is computed (and returned) or not, default is not returned\n",
    "    Tref_all: decides if the Tref at each grid point is dervied based on all available runs or not, default is yes       \n",
    "    Tref_start: starting point for the reference period with default 1870\n",
    "    Tref_end: first year to no longer be included in reference period with default 1900\n",
    "\n",
    "    Output:\n",
    "    y: the land grid points of the anomalies of the variable on grid centered over 0 longitude (like the srexgrid) \n",
    "    time: the time slots\n",
    "    srex: the gridded srex regions\n",
    "    df_srex: data frame containing the shape files of the srex regions\n",
    "    lon_pc: longitudes for pcolormesh (needs 1 more than on grid)\n",
    "    lat_pc: latitudes for pcolormesh (needs 1 more than on grid)\n",
    "    idx_l: array with 0 where sea, 1 where land (assumption: land if frac land > 0)\n",
    "    wgt_l: land grid point weights to derive area weighted mean vars\n",
    "    Tan_wgt_globmean = area weighted global mean temperature\n",
    "\n",
    "    \"\"\"\n",
    "    print(\"start with model\", model, \"for month: \", mon)\n",
    "    \n",
    "    month_sel = mon\n",
    "    var='tas'\n",
    "    temp_res=usr_time_res\n",
    "    spatial_res='g025'\n",
    "        \n",
    "    ##load in constant files\n",
    "    dir_data = \"/home/tristan/mesmer/data/\"\n",
    "    file_ls = \"interim_invariant_lsmask_regrid.nc\"\n",
    "    file_srex = \"srex-region-masks_20120709.srex_mask_SREX_masks_all.25deg.time-invariant.nc\"\n",
    "    file_srex_shape = \"referenceRegions.shp\"\n",
    "        \n",
    "    # SREX names ordered according to SREX mask\n",
    "    srex_names = ['ALA','CGI','WNA','CNA','ENA','CAM','AMZ','NEB','WSA','SSA','NEU','CEU','MED','SAH','WAF','EAF','SAF',\n",
    "             'NAS','WAS','CAS','TIB','EAS','SAS','SEA','NAU','SAU'] \n",
    "        \n",
    "    # srex_raw nrs from 1-26\n",
    "    srex_raw = xr.open_mfdataset(dir_data+file_srex, combine='by_coords',decode_times=False) \n",
    "    lons, lats = np.meshgrid(srex_raw.lon.values,srex_raw.lat.values) #derive the lat, lon grid\n",
    "    \n",
    "    #apply land mask\n",
    "    frac_l = xr.open_mfdataset(dir_data+file_ls, combine='by_coords',decode_times=False) #land-sea mask\n",
    "    frac_l_raw = np.squeeze(copy.deepcopy(frac_l.lsm.values))\n",
    "    frac_l = frac_l.where(frac_l.lat>-60,0)\n",
    "    idx_l=np.squeeze(frac_l.lsm.values)>0.0 \n",
    "    \n",
    "    wgt = np.cos(np.deg2rad(lats)) # area weights of each grid point\n",
    "    wgt_l = (wgt*frac_l_raw)[idx_l] # area weights for land grid points (including taking fraction land into consideration)\n",
    "    lon_pc, lat_pc = mpu.infer_interval_breaks(frac_l.lon, frac_l.lat) # the lon / lat for the plotting with pcolormesh\n",
    "    srex = (np.squeeze(srex_raw.srex_mask.values)-1)[idx_l] # srex indices on land\n",
    "    \n",
    "    y={}\n",
    "    T_ref = np.zeros(idx_l.shape)\n",
    "    run_nrs={}\n",
    "    \n",
    "    if GMST == True:\n",
    "        Tan_wgt_globmean = {}\n",
    "        Tan_wgt_globmean_hist = {}\n",
    "    if gen == 6:\n",
    "        dir_var= '/home/tristan/mesmer_data/CMIP6/tas/%s/g025/'%usr_time_res  #select the correct directory\n",
    "        \n",
    "        run_names_list = sorted(glob.glob(dir_var+var+'_'+temp_res+'_'+model+'_ssp*_'+'r*i1p1f*'+'_'+spatial_res+'.nc'))\n",
    "        run_names_list_historical=sorted(glob.glob(dir_var+var+'_'+temp_res+'_'+model+'_historical_'+'r*i1p1f*'+'_'+spatial_res+'.nc'))\n",
    "        \n",
    "        for run_name in run_names_list:\n",
    "            run_name_ssp = run_name\n",
    "            \n",
    "            data = xr.open_mfdataset(run_name_ssp, concat_dim='time', combine=\"nested\").sel(time=slice('1870-01-01', '2101-01-01')).roll(lon=72)\n",
    "            #data = data.sel(time=data.time.dt.month.isin([month_sel])) ## select specific month(s) from the data\n",
    "            data = data.assign_coords(lon= (((data.lon + 180) % 360) - 180)) #assign coords so same labels as others\n",
    "            scen = run_name.split('/')[-1].split('_')[-3]\n",
    "            run = int(run_name.split('/')[-1].split('_')[-2].split('r')[1].split('i')[0])\n",
    "            \n",
    "            if scen not in list(y.keys()):\n",
    "                y[scen]={}\n",
    "                run_nrs[scen]=[]\n",
    "                y[scen][run] = data.tas.values  #still absolute values (contains also sea pixels)\n",
    "                y[scen][run] = y[scen][run][mon::12]  # select the chosen month only \n",
    "                run_nrs[scen].append(run)\n",
    "                \n",
    "            else:\n",
    "                y[scen][run] = data.tas.values\n",
    "                y[scen][run] = y[scen][run][mon::12]  # select the chosen month only \n",
    "                run_nrs[scen].append(run)\n",
    "        \n",
    "            if GMST == True:\n",
    "                Tan_wgt_globmean[run] = np.asarray([np.average(y[scen][run][t],weights=wgt) for t in np.arange(y[scen][run].shape[0])])\n",
    "        \n",
    "        y['historical']={}\n",
    "        run_nrs['historical']=[]\n",
    "        for run_name in run_names_list_historical:\n",
    "            run_name_hist = run_name\n",
    "            data_hist = xr.open_mfdataset(run_name_hist,concat_dim='time',  combine=\"nested\").sel(time=slice('1870-01-01', '2101-01-01')).roll(lon=72)\n",
    "            #data_hist = data_hist.sel(time=data_hist.time.dt.month.isin([month_sel])) ## select specific month(s) from the data\n",
    "            run = int(run_name.split('/')[-1].split('_')[-2].split('r')[1].split('i')[0]) \n",
    "            y['historical'][run] = data_hist.tas.values\n",
    "            y['historical'][run] = y['historical'][run][mon::12]  # select the chosen month only \n",
    "            run_nrs['historical'].append(run)\n",
    "            \n",
    "        #sum up all ref climates\n",
    "            T_ref += data_hist.tas.sel(time=slice(Tref_start, Tref_end)).mean(dim='time').values*1.0/len(run_names_list_historical)\n",
    "            y['historical'][run]=y['historical'][run][:,idx_l]\n",
    "            \n",
    "    for scen in [i for i in y.keys()]:\n",
    "        print(scen, run_nrs[scen])\n",
    "        for run in run_nrs[scen]:\n",
    "            if Tref_all == True:\n",
    "                try:\n",
    "                    y[scen][run]=(y[scen][run]-T_ref)[:,idx_l]\n",
    "                except:\n",
    "                    y[scen][run]=(y[scen][run]-T_ref[idx_l])\n",
    "                     #print('Exception dealth with, ', scen,y[scen][run].shape)\n",
    "            else:\n",
    "                try:\n",
    "                    y[scen][run]=y[scen][run][:,idx_l]\n",
    "                except:\n",
    "                    y[scen][run]=y[scen][run]\n",
    "                    print('No T ref, ', scen,y[scen][run].shape)\n",
    "                    \n",
    "    #if (data.lon!=srex_raw.lon).any() and (srex_raw.lon!=frac_l.lon).any():\n",
    "        #print(\"There is an error. The grids do not agree.\")\n",
    "    \n",
    "        \n",
    "    time = data.sel(time=data.time.dt.month.isin([month_sel]))\n",
    "    time= time[\"time\"]\n",
    "    \n",
    "    time_hist = data_hist.sel(time=data_hist.time.dt.month.isin([month_sel]))\n",
    "    time_hist= time_hist[\"time\"]\n",
    "    \n",
    "    if GMST == False:\n",
    "        if Tref_all == False:\n",
    "            return y,time,time_hist,run_nrs, srex,srex_names,lon_pc,lat_pc,idx_l,wgt_l, T_ref\n",
    "        else:\n",
    "            return y,time,time_hist,run_nrs,srex,srex_names,lon_pc,lat_pc,idx_l,wgt_l\n",
    "    else:\n",
    "        return y,time,time_hist,run_nrs,srex,srex_names,lon_pc,lat_pc,idx_l,wgt_l,Tan_wgt_globmean"
   ]
  },
  {
   "cell_type": "code",
   "execution_count": 12,
   "id": "8aac39d4",
   "metadata": {},
   "outputs": [],
   "source": [
    "def load_data_obs_mon(obs, mon, Tref_start='1951-01-01', Tref_end='1981-01-01'):\n",
    "    \"\"\" Load the observations.\n",
    "\n",
    "    Keyword argument:\n",
    "    - obs: currently implemented for \"best\" and \"cowtan\"\n",
    "    - mon: int, specific month, where 1 is Jan and 12 is Dec\n",
    "    - Tref_start: starting point for the reference period with default 1951 (ie BEST Tref)\n",
    "    - Tref_end: last year still INCLUDED for the reference period with default 1980 (ie BEST Tref) (ATTENTION: different from load_data_single_mod where is the first NOT included)\n",
    "    - Tblend_idx: whether to compute the blended Tanglob anomaly or not (default = False)\n",
    "\n",
    "    Output:\n",
    "    - y: the land grid points of the anomalies of the variable on grid centered over 0 longitude (like the srexgrid) \n",
    "    - time: the time slots\n",
    "    - Tblendglob = area weighted global mean temperature (blend from SST over ocean and tas over land + sea ice)\n",
    "        \n",
    "            \n",
    "    \"\"\"\n",
    "    print(\"start with \", obs, \"for month: \", mon)\n",
    "    \n",
    "    dir_data = '/home/tristan/mesmer/data/'\n",
    "    \n",
    "    month_sel = mon\n",
    "    nr_years = 112\n",
    "    tot_months = 12*nr_years\n",
    "    \n",
    "    \n",
    "    # read in the land-sea mask\n",
    "    file_ls = 'interim_invariant_lsmask_regrid.nc' # ERA-interim mask regridded by Richard from 73x144 to 72x144\n",
    "    frac_l = xr.open_mfdataset(dir_data+file_ls) #land-sea mask of ERA-interim bilinearily interpolated \n",
    "    frac_l = frac_l.where(frac_l.lat>-60,0) # remove Antarctica from frac_l field (ie set frac l to 0)\n",
    "    idx_l=np.squeeze(frac_l.lsm.values)>0.0 # idex land #-> everything >0 I consider land\n",
    "\n",
    "    lons, lats = np.meshgrid(frac_l.lon.values,frac_l.lat.values) # the lon, lat grid (just to derive weights)   \n",
    "    wgt = norm_cos_wgt(lats) # area weights of each grid point\n",
    "    \n",
    "    if obs == 'best':\n",
    "        obs_file='obs_data_25.nc'\n",
    "        ds_obs=xr.open_mfdataset(dir_data+obs_file)\n",
    "        ds_fix = ds_obs.rename({'temperature':'tas'}).sel(time=slice('1910-01-01', '2022-01-01'))\n",
    "        ds_fix['time'] = np.arange(np.datetime64('1910-01-01'), np.datetime64('2022-01-01'), dtype='datetime64[M]')\n",
    "        data_test = np.array([ds_fix.tas.values[:,idx_l]])\n",
    "        data_test = data_test.squeeze()\n",
    "        y_obs = data_test[month_sel::12]\n",
    "    \n",
    "    if obs == 'giss':\n",
    "        file='GISS_tas_g25.nc' \n",
    "        ds_obs=xr.open_mfdataset(dir_data+file)\n",
    "        ds_fix = ds_obs.rename({'tempanomaly':'tas'}).sel(time=slice('1910-01-01', '2022-01-01')).drop(['time_bnds'])\n",
    "        ds_fix['time'] = np.arange(np.datetime64('1910-01-01'), np.datetime64('2022-01-01'), dtype='datetime64[M]')\n",
    "        data_test = np.array([ds_fix.tas.values[:,idx_l]])\n",
    "        data_test = data_test.squeeze()\n",
    "        y_obs = data_test[month_sel::12]\n",
    "\n",
    "    T_ref = np.array([ds_fix.tas.sel(time=slice(Tref_start, Tref_end)).mean(dim='time').values[idx_l]])\n",
    "    T_ref = T_ref.squeeze()\n",
    "    \n",
    "    y=(y_obs-T_ref) #[:,idx_l]\n",
    "    time = ds_fix.sel(time=ds_fix.time.dt.month.isin([month_sel]))\n",
    "    time = time['time']\n",
    "    \n",
    "    return y,time"
   ]
  },
  {
   "cell_type": "code",
   "execution_count": 100,
   "id": "686fc9c6",
   "metadata": {},
   "outputs": [
    {
     "data": {
      "text/plain": [
       "(1344, 3043)"
      ]
     },
     "execution_count": 100,
     "metadata": {},
     "output_type": "execute_result"
    }
   ],
   "source": [
    "Tref_start='1951-01-01' \n",
    "Tref_end='1981-01-01'\n",
    "\n",
    "datasets = ['best', 'giss']\n",
    "\n",
    "y_obs = {}\n",
    "ds_obs = {}\n",
    "ds_fix = {}\n",
    "data_test = {}\n",
    "data_clim = {}\n",
    "y_ma = {}\n",
    "y_all_mon = {}\n",
    "y_all = {}\n",
    "\n",
    "for dataset in datasets:\n",
    "    if dataset == 'best':\n",
    "        obs_file='obs_data_25.nc'\n",
    "        ds_obs[dataset]=xr.open_mfdataset(dir_data+obs_file)\n",
    "        ds_fix[dataset] = ds_obs[dataset].rename({'temperature':'tas'}).sel(time=slice('1910-01-01', '2022-01-01'))\n",
    "        \n",
    "    if dataset == 'giss':\n",
    "        file='GISS_tas_g25.nc' \n",
    "        ds_obs[dataset]=xr.open_mfdataset(dir_data+file)\n",
    "        ds_fix[dataset] = ds_obs[dataset].rename({'tempanomaly':'tas'}).sel(time=slice('1910-01-01', '2022-01-01')).drop(['time_bnds'])\n",
    "    \n",
    "    ds_fix[dataset]['time'] = np.arange(np.datetime64('1910-01-01'), np.datetime64('2022-01-01'), dtype='datetime64[M]')\n",
    "    data_test[dataset] = np.array([ds_fix[dataset].tas.values[:,idx_l]]).squeeze()\n",
    "    data_clim[dataset] = np.array([ds_obs['best'].climatology.values[:,idx_l]]).squeeze()\n",
    "    \n",
    "    y_ma[dataset] = np.repeat(data_clim[dataset], 112, axis=0)\n",
    "    \n",
    "    y_all_mon[dataset] = np.add(y_ma[dataset], data_test[dataset])\n",
    "    y_all_mon[dataset] = np.subtract(y_all_mon[dataset], np.reshape(np.tile(np.mean(ds_obs['best'].climatology.values[:,idx_l],axis=0), tot_months), (tot_months, idx_l.sum())))\n",
    "    \n",
    "y_all_mon['giss'].shape"
   ]
  },
  {
   "cell_type": "code",
   "execution_count": 94,
   "id": "0e9b9d52",
   "metadata": {},
   "outputs": [
    {
     "data": {
      "image/png": "[encoded data removed]",
      "text/plain": [
       "<Figure size 648x360 with 1 Axes>"
      ]
     },
     "metadata": {
      "needs_background": "light"
     },
     "output_type": "display_data"
    }
   ],
   "source": [
    "time_x = np.arange(12)\n",
    "\n",
    "for dataset in datasets:\n",
    "    plt.plot(time_x, np.mean(data_clim['best'], axis=1))\n",
    "    plt.plot(time_x, np.mean(data_clim['giss'], axis=1))"
   ]
  },
  {
   "cell_type": "code",
   "execution_count": 13,
   "id": "b34c9c30",
   "metadata": {},
   "outputs": [],
   "source": [
    "def compute_Tan_wgt_reg(gen,reg,obs_idx=False):\n",
    "    print(gen,reg)\n",
    "    \n",
    "    if reg == 'Global_land':\n",
    "        idx_reg_l=np.ones(3043,dtype=bool)\n",
    "        idx_reg_l_grid = copy.deepcopy(idx_l)\n",
    "    \n",
    "    else:   \n",
    "        idx_reg = srex_names.index(reg) # index region\n",
    "        idx_reg_l = (srex==idx_reg) #index land (l) gp inside specific srex region (reg)\n",
    "        srex_grid=np.zeros(idx_l.shape)\n",
    "        srex_grid[idx_l]=srex # ATTENTION: not 100% convinced yet if this is correct (I get some missing values that\n",
    "        idx_reg_l_grid = (srex_grid==idx_reg)#& idx_l \n",
    "    \n",
    "    Tan_wgt_reg_y={}\n",
    "    Tan_wgt_reg_y_hist={}\n",
    "    Tan_wgt_reg_y_mean={}\n",
    "    Tan_wgt_reg_y_mean_hist={}\n",
    "    Tan_wgt_reg_y_mean_all={}\n",
    "    x = {}\n",
    "    \n",
    "    if gen == 6:\n",
    "        models_sel = models\n",
    "    \n",
    "    for model in models_sel:\n",
    "        Tan_wgt_reg_y[model]={}\n",
    "        Tan_wgt_reg_y_hist[model]={}\n",
    "        \n",
    "        #### calculate the historical land surface temperature\n",
    "        for run_nr in np.arange(len(y[model]['historical'])):   \n",
    "            Tan_wgt_reg_y_hist[model][run_nr] = np.zeros(len(time_hist[model]))\n",
    "            try:\n",
    "                for i in np.arange(len(time_hist[model])):\n",
    "                    Tan_wgt_reg_y_hist[model][run_nr][i] = np.average(y[model]['historical'][run_nr][i][idx_reg_l],weights=wgt_l[idx_reg_l])\n",
    "        \n",
    "            except:\n",
    "                for i in np.arange(len(time_hist[model])):\n",
    "                    Tan_wgt_reg_y_hist[model][run_nr][i] = np.average(y[model]['historical'][run_nr+1][i][idx_reg_l],weights=wgt_l[idx_reg_l])\n",
    "        \n",
    "        \n",
    "        #### calculate the projected land surface temperature\n",
    "        for run_nr in np.arange(len(y[model]['ssp585'])):\n",
    "            Tan_wgt_reg_y[model][run_nr] = np.zeros(len(time[model]))\n",
    "            try:\n",
    "                for i in np.arange(len(time[model])):\n",
    "                    Tan_wgt_reg_y[model][run_nr][i] = np.average(y[model]['ssp585'][run_nr][i][idx_reg_l],weights=wgt_l[idx_reg_l])\n",
    "            except:\n",
    "                for i in np.arange(len(time[model])):\n",
    "                    Tan_wgt_reg_y[model][run_nr][i] = np.average(y[model]['ssp585'][run_nr+1][i][idx_reg_l],weights=wgt_l[idx_reg_l]) \n",
    "        \n",
    "        #### calculate mean TAS values for scen\n",
    "        x[model] = np.array(list(Tan_wgt_reg_y[model].values()))\n",
    "        Tan_wgt_reg_y_mean[model] = np.mean(x[model], axis=0)\n",
    "        \n",
    "        #### calculate mean TAS values for historical\n",
    "        x[model] = np.array(list(Tan_wgt_reg_y_hist[model].values()))\n",
    "        Tan_wgt_reg_y_mean_hist[model] = np.mean(x[model], axis=0)\n",
    "        \n",
    "    return Tan_wgt_reg_y, Tan_wgt_reg_y_hist, Tan_wgt_reg_y_mean, Tan_wgt_reg_y_mean_hist, idx_reg_l_grid"
   ]
  },
  {
   "cell_type": "code",
   "execution_count": 14,
   "id": "6cba207b",
   "metadata": {},
   "outputs": [],
   "source": [
    "def compute_wgt_reg_obs_mon(reg):\n",
    "    \n",
    "    dir_data = \"/home/tristan/mesmer/data/\"\n",
    "    file_ls = \"interim_invariant_lsmask_regrid.nc\"\n",
    "    file_obs = \"obs_data_25.nc\"\n",
    "    file_srex = \"srex-region-masks_20120709.srex_mask_SREX_masks_all.25deg.time-invariant.nc\"\n",
    "    file_srex_shape = \"referenceRegions.shp\"\n",
    "\n",
    "    df_obs=xr.open_mfdataset(dir_data+file_obs)\n",
    "\n",
    "    # SREX names ordered according to SREX mask\n",
    "    srex_names = ['ALA','CGI','WNA','CNA','ENA','CAM','AMZ','NEB','WSA','SSA','NEU','CEU','MED','SAH','WAF','EAF','SAF',\n",
    "             'NAS','WAS','CAS','TIB','EAS','SAS','SEA','NAU','SAU'] \n",
    "        \n",
    "    # srex_raw nrs from 1-26\n",
    "    srex_raw = xr.open_mfdataset(dir_data+file_srex, combine='by_coords',decode_times=False) \n",
    "    lons, lats = np.meshgrid(srex_raw.lon.values,srex_raw.lat.values) #derive the lat, lon grid\n",
    "    \n",
    "    #apply land mask\n",
    "    frac_l = xr.open_mfdataset(dir_data+file_ls, combine='by_coords',decode_times=False) #land-sea mask\n",
    "    frac_l_raw = np.squeeze(copy.deepcopy(frac_l.lsm.values))\n",
    "    frac_l = frac_l.where(frac_l.lat>-60,0)\n",
    "    idx_l=np.squeeze(frac_l.lsm.values)>0.0 \n",
    "    \n",
    "    wgt = np.cos(np.deg2rad(lats)) # area weights of each grid point\n",
    "    wgt_l = (wgt*frac_l_raw)[idx_l] # area weights for land grid points (including taking fraction land into consideration)\n",
    "    lon_pc, lat_pc = mpu.infer_interval_breaks(frac_l.lon, frac_l.lat) # the lon / lat for the plotting with pcolormesh\n",
    "    srex = (np.squeeze(srex_raw.srex_mask.values)-1)[idx_l] # srex indices on land\n",
    "\n",
    "    \n",
    "    if reg == 'Global_land':\n",
    "        idx_reg_l=np.ones(3043,dtype=bool)\n",
    "        idx_reg_l_grid = copy.deepcopy(idx_l)\n",
    "        \n",
    "    else:\n",
    "        idx_reg = srex_names.index(reg) # index region\n",
    "        idx_reg_l = (srex==idx_reg) #index land (l) gp inside specific srex region (reg)\n",
    "        srex_grid=np.zeros(idx_l.shape)\n",
    "        srex_grid[idx_l]=srex # ATTENTION: not 100% convinced yet if this is correct (I get some missing values that\n",
    "        idx_reg_l_grid = (srex_grid==idx_reg)#& idx_l \n",
    "    \n",
    "    datasets = [\"best\", \"giss\"]\n",
    "    \n",
    "    obs_tas_mean = {}\n",
    "    x = {}\n",
    "    list_x = {}\n",
    "    y_mon = {}\n",
    "    y_ann = {}\n",
    "    \n",
    "    for dataset in datasets:\n",
    "        obs_tas_mean[dataset] = {}\n",
    "        x[dataset] = {}\n",
    "        list_x[dataset] = {}\n",
    "        y_mon[dataset] = {}\n",
    "        for mon in months:\n",
    "            obs_tas_mean[dataset][mon] = {}\n",
    "            for i in np.arange(len(time_obs[dataset][mon])):\n",
    "                idx_valid=~np.isnan(tas_mon[dataset][mon][i][idx_reg_l])\n",
    "                obs_tas_mean[dataset][mon][i] = np.average(tas_mon[dataset][mon][i][idx_reg_l][idx_valid],weights=wgt_l[idx_reg_l][idx_valid]) \n",
    "            \n",
    "            \n",
    "            x[dataset][mon] = obs_tas_mean[dataset][mon].items()\n",
    "            list_x[dataset][mon] = list(x[dataset][mon])\n",
    "            y_mon[dataset][mon] = np.array(list_x[dataset][mon])[:,-1]\n",
    "        \n",
    "    return y_mon"
   ]
  },
  {
   "cell_type": "code",
   "execution_count": 68,
   "id": "7b976410",
   "metadata": {},
   "outputs": [],
   "source": [
    "years = 112\n",
    "tot_months = 12*112\n",
    "\n",
    "\n",
    "obs_file='obs_data_25.nc'\n",
    "ds_obs=xr.open_mfdataset(dir_data+obs_file)\n",
    "ds_fix = ds_obs.rename({'temperature':'tas'}).sel(time=slice('1910-01-01', '2022-01-01'))\n",
    "ds_fix['time'] = np.arange(np.datetime64('1910-01-01'), np.datetime64('2022-01-01'), dtype='datetime64[M]')\n",
    "\n",
    "\n",
    "data_test = np.array([ds_fix.tas.values[:,idx_l]])\n",
    "\n",
    "# y_ma = np.zeros((tot_months), idx_l.sum())\n",
    "# for i in range(tot_months):\n",
    "#     y_ma[i] = ds_obs.climatology.values[i%12,idx_l]\n",
    "\n",
    "\n",
    "# data_test = data_test.squeeze()\n",
    "# y_obs = data_test[month_sel::12]\n",
    "\n",
    "x = np.array([df_obs.climatology.values[:,idx_l]])\n",
    "x = x.squeeze()\n",
    "\n",
    "y_ma = np.repeat(x, 112, axis=0)\n",
    "\n",
    "y_all_mon = np.add(y_ma, data_test)\n",
    "y_all_mon = np.subtract(y_all_mon, np.reshape(np.tile(np.mean(ds_fix.climatology.values[:,idx_l],axis=0), tot_months), (tot_months, idx_l.sum())))\n",
    "\n"
   ]
  },
  {
   "cell_type": "markdown",
   "id": "cc48fd8c",
   "metadata": {},
   "source": [
    "# Load data for weighting and land masks"
   ]
  },
  {
   "cell_type": "code",
   "execution_count": 15,
   "id": "15fa2b22",
   "metadata": {},
   "outputs": [
    {
     "name": "stdout",
     "output_type": "stream",
     "text": [
      "(72, 144)\n"
     ]
    }
   ],
   "source": [
    "dir_data = \"/home/tristan/mesmer/data/\"\n",
    "file_ls = \"interim_invariant_lsmask_regrid.nc\"\n",
    "file_obs = \"obs_data_25.nc\"\n",
    "file_srex = \"srex-region-masks_20120709.srex_mask_SREX_masks_all.25deg.time-invariant.nc\"\n",
    "file_srex_shape = \"referenceRegions.shp\"\n",
    "\n",
    "df_obs=xr.open_mfdataset(dir_data+file_obs)\n",
    "\n",
    "# SREX names ordered according to SREX mask\n",
    "srex_names = ['ALA','CGI','WNA','CNA','ENA','CAM','AMZ','NEB','WSA','SSA','NEU','CEU','MED','SAH','WAF','EAF','SAF',\n",
    "         'NAS','WAS','CAS','TIB','EAS','SAS','SEA','NAU','SAU'] \n",
    "\n",
    "# srex_raw nrs from 1-26\n",
    "srex = xr.open_mfdataset(dir_data+file_srex, combine='by_coords',decode_times=False) \n",
    "lons, lats = np.meshgrid(df_obs.lon.values,df_obs.lat.values) #derive the lat, lon grid\n",
    "\n",
    "#apply land mask\n",
    "frac_l = xr.open_mfdataset(dir_data+file_ls, combine='by_coords',decode_times=False) #land-sea mask\n",
    "frac_l_raw = np.squeeze(copy.deepcopy(frac_l.lsm.values))\n",
    "frac_l = frac_l.where(frac_l.lat>-60,0)\n",
    "idx_l=np.squeeze(frac_l.lsm.values)>0.0 \n",
    "\n",
    "# reg='ALA'\n",
    "# idx_reg = srex_names.index(reg)+1 \n",
    "# idx_reg_l = (srex.srex_mask.values[idx_l]==idx_reg)\n",
    "# idx_reg_l_grid = (srex.srex_mask.values==idx_reg) & idx_l\n",
    " \n",
    "wgt = np.cos(np.deg2rad(lats)) # area weights of each grid point\n",
    "wgt_l = (wgt*frac_l_raw)[idx_l] # area weights for land grid points (including taking fraction land into consideration)\n",
    "lon_pc, lat_pc = mpu.infer_interval_breaks(frac_l.lon, frac_l.lat) # the lon / lat for the plotting with pcolormesh\n",
    "\n",
    "print(wgt.shape)"
   ]
  },
  {
   "cell_type": "markdown",
   "id": "cfb36bc7",
   "metadata": {},
   "source": [
    "# define the models"
   ]
  },
  {
   "cell_type": "code",
   "execution_count": 16,
   "id": "8e420ea5",
   "metadata": {},
   "outputs": [
    {
     "name": "stdout",
     "output_type": "stream",
     "text": [
      "36\n"
     ]
    }
   ],
   "source": [
    "models = ['ACCESS-CM2','ACCESS-ESM1-5','BCC-CSM2-MR','CAMS-CSM1-0','CanESM5','CAS-ESM2-0', 'CESM2-WACCM', 'CESM2', 'CMCC-CM2-SR5',\n",
    "          'CNRM-CM6-1','CNRM-CM6-1-HR','CNRM-ESM2-1', 'EC-Earth3','EC-Earth3-Veg', 'FGOALS-f3-L','FGOALS-g3',\n",
    "         'FIO-ESM-2-0', 'GFDL-CM4', 'GFDL-ESM4', 'HadGEM3-GC31-LL', 'HadGEM3-GC31-MM', 'INM-CM4-8','INM-CM5-0',\n",
    "          'IPSL-CM6A-LR', 'KACE-1-0-G', 'KIOST-ESM', 'MIROC6','MIROC-ES2L', 'MPI-ESM1-2-HR',\n",
    "          'MPI-ESM1-2-LR','MRI-ESM2-0','NESM3','NorESM2-LM', 'NorESM2-MM', 'TaiESM1', 'UKESM1-0-LL']  \n",
    "    \n",
    "    \n",
    "print(len(models))"
   ]
  },
  {
   "cell_type": "markdown",
   "id": "e40cb489",
   "metadata": {},
   "source": [
    "# use loading function to load model parameters for July"
   ]
  },
  {
   "cell_type": "code",
   "execution_count": 17,
   "id": "848ef8f3",
   "metadata": {},
   "outputs": [
    {
     "name": "stdout",
     "output_type": "stream",
     "text": [
      "start with model ACCESS-CM2 for month:  7\n",
      "ssp585 [1, 2, 3, 4, 5]\n",
      "historical [1, 2, 3, 4, 5]\n",
      "start with model ACCESS-ESM1-5 for month:  7\n",
      "ssp585 [1, 2, 3, 4, 5, 6, 7, 8, 9]\n",
      "historical [1, 2, 3, 4, 5, 6, 7, 8, 9]\n",
      "start with model BCC-CSM2-MR for month:  7\n",
      "ssp585 [1]\n",
      "historical [1, 2, 3]\n"
     ]
    }
   ],
   "source": [
    "models = ['ACCESS-CM2','ACCESS-ESM1-5','BCC-CSM2-MR']\n",
    "\n",
    "y = {}\n",
    "time = {}\n",
    "run_nrs_tas = {}\n",
    "time = {}\n",
    "time_hist={}\n",
    "wgt_l={}\n",
    "\n",
    "for model in models:\n",
    "    y[model],time[model],time_hist[model],run_nrs_tas[model],srex,srex_names,lon_pc,lat_pc,idx_l,wgt_l = load_data_single_mod_mon(6,model,7,GMST=False,Tref_all=True,Tref_start='1870-01-01',Tref_end='1900-01-01', usr_time_res=\"mon\")\n",
    "    \n",
    "for scen in y[model].keys():\n",
    "    y[model][scen]=np.stack(([y[model][scen][run] for run in run_nrs_tas[model][scen]]))\n"
   ]
  },
  {
   "cell_type": "markdown",
   "id": "1fa64200",
   "metadata": {},
   "source": [
    "## Calculate weighted land surface temp for each region"
   ]
  },
  {
   "cell_type": "code",
   "execution_count": 18,
   "id": "f97a9c41",
   "metadata": {},
   "outputs": [
    {
     "name": "stdout",
     "output_type": "stream",
     "text": [
      "6 Global_land\n"
     ]
    }
   ],
   "source": [
    "reg = 'Global_land'\n",
    "LST = {}\n",
    "LST_hist = {}\n",
    "\n",
    "LST, LST_hist, LST_mean, LST_hist_mean, idx_l_reg_gl = compute_Tan_wgt_reg(6, reg)"
   ]
  },
  {
   "cell_type": "code",
   "execution_count": 19,
   "id": "5b3c2c01",
   "metadata": {},
   "outputs": [
    {
     "name": "stdout",
     "output_type": "stream",
     "text": [
      "6 WNA\n"
     ]
    }
   ],
   "source": [
    "reg = 'WNA'\n",
    "LST_WNA = {}\n",
    "LST_hist_WNA = {}\n",
    "\n",
    "LST_WNA, LST_hist_WNA, LST_mean_WNA, LST_hist_mean_WNA, idx_l_reg_WNA = compute_Tan_wgt_reg(6, reg)"
   ]
  },
  {
   "cell_type": "code",
   "execution_count": 20,
   "id": "3844139f",
   "metadata": {},
   "outputs": [
    {
     "name": "stdout",
     "output_type": "stream",
     "text": [
      "6 EAF\n"
     ]
    }
   ],
   "source": [
    "reg = 'EAF'\n",
    "LST_EAF = {}\n",
    "LST_hist_EAF = {}\n",
    "\n",
    "LST_EAF, LST_hist_EAF, LST_mean_EAF, LST_hist_mean_EAF, idx_l_reg_EAF = compute_Tan_wgt_reg(6, reg)"
   ]
  },
  {
   "cell_type": "code",
   "execution_count": 21,
   "id": "aca529df",
   "metadata": {},
   "outputs": [
    {
     "name": "stdout",
     "output_type": "stream",
     "text": [
      "6 SSA\n"
     ]
    }
   ],
   "source": [
    "reg = 'SSA'\n",
    "LST_SSA = {}\n",
    "LST_hist_SSA = {}\n",
    "\n",
    "LST_SSA, LST_hist_SSA, LST_mean_SSA, LST_hist_mean_SSA, idx_l_reg_SSA = compute_Tan_wgt_reg(6, reg)"
   ]
  },
  {
   "cell_type": "markdown",
   "id": "44cd5f60",
   "metadata": {},
   "source": [
    "## Load in observation data"
   ]
  },
  {
   "cell_type": "code",
   "execution_count": 22,
   "id": "e6ae1c1a",
   "metadata": {},
   "outputs": [
    {
     "name": "stdout",
     "output_type": "stream",
     "text": [
      "start with  best for month:  1\n",
      "start with  best for month:  7\n",
      "start with  giss for month:  1\n",
      "start with  giss for month:  7\n"
     ]
    }
   ],
   "source": [
    "#### load monthly tas for each grid point ########################################\n",
    "datasets = [\"best\", \"giss\"]\n",
    "reg = 'Global_land'\n",
    "\n",
    "tas_mon = {}\n",
    "time_obs = {}\n",
    "\n",
    "months = [1, 7]\n",
    "\n",
    "for dataset in datasets:\n",
    "    tas_mon[dataset] = {}\n",
    "    time_obs[dataset] = {}\n",
    "    for mon in months: \n",
    "        tas_mon[dataset][mon], time_obs[dataset][mon] = load_data_obs_mon(dataset, mon)\n",
    "\n",
    "# ### compute weighted mean TAS for specific month, across all land surface gridpoints ####################\n",
    "\n",
    "obs_mon = compute_wgt_reg_obs_mon(reg)"
   ]
  },
  {
   "cell_type": "code",
   "execution_count": 23,
   "id": "d080f555",
   "metadata": {},
   "outputs": [],
   "source": [
    "### compute weighted mean TAS for WNA ####################\n",
    "\n",
    "reg = 'WNA'\n",
    "\n",
    "obs_mon_WNA = compute_wgt_reg_obs_mon(reg)"
   ]
  },
  {
   "cell_type": "code",
   "execution_count": 24,
   "id": "39dfe721",
   "metadata": {},
   "outputs": [],
   "source": [
    "### compute weighted mean TAS for SSA ####################\n",
    "\n",
    "reg = 'SSA'\n",
    "\n",
    "obs_mon_SSA = compute_wgt_reg_obs_mon(reg)"
   ]
  },
  {
   "cell_type": "code",
   "execution_count": 25,
   "id": "14620f30",
   "metadata": {},
   "outputs": [],
   "source": [
    "### compute weighted mean TAS for EAF ####################\n",
    "\n",
    "reg = 'EAF'\n",
    "\n",
    "obs_mon_EAF = compute_wgt_reg_obs_mon(reg)"
   ]
  },
  {
   "cell_type": "markdown",
   "id": "909fe841",
   "metadata": {},
   "source": [
    "# Plot everything for July"
   ]
  },
  {
   "cell_type": "code",
   "execution_count": 26,
   "id": "f257ddb5",
   "metadata": {},
   "outputs": [],
   "source": [
    "### set plot params\n",
    "\n",
    "params = {'legend.fontsize': 'xx-large',\n",
    "         'axes.labelsize': 'x-large',\n",
    "         'axes.titlesize':'xx-large',\n",
    "         'xtick.labelsize':'x-large',\n",
    "          'figure.figsize': (9,5),\n",
    "          \"font.family\": \"serif\",\n",
    "         'ytick.labelsize':'x-large',\n",
    "         \"font.weight\":\"normal\",\n",
    "         \"axes.labelweight\":\"normal\"}\n",
    "plt.rcParams.update(params)"
   ]
  },
  {
   "cell_type": "code",
   "execution_count": 27,
   "id": "4621b029",
   "metadata": {},
   "outputs": [],
   "source": [
    "v_srex=np.array([-0.5,0.5,1.5]) # to mark which SREX region\n",
    "\n",
    "cmap_srex, norm_srex = from_levels_and_colors(v_srex, colors=['white','#31a354'], extend='neither')\n",
    "srex = xr.open_mfdataset('/home/tristan/mesmer/data/srex-region-masks_20120709.srex_mask_SREX_masks_all.25deg.time-invariant.nc', combine='by_coords',decode_times=False)\n",
    "dir_srex_shape='/home/tristan/mesmer/data/referenceRegions/referenceRegions.shp'\n",
    "\n",
    "\n",
    "df_all_regs = geopandas.read_file(dir_srex_shape)\n",
    "srex_names = ['ALA','CGI','WNA','CNA','ENA','CAM','AMZ','NEB','WSA','SSA','NEU','CEU','MED','SAH','WAF','EAF','SAF',\n",
    "             'NAS','WAS','CAS','TIB','EAS','SAS','SEA','NAU','SAU'] # SREX names ordered according to SREX mask I am\n",
    "df_srex = df_all_regs.loc[df_all_regs['LAB'].isin(srex_names)] # alternative indexing: search in column LAB for names\n"
   ]
  },
  {
   "cell_type": "code",
   "execution_count": 28,
   "id": "6536e675",
   "metadata": {},
   "outputs": [
    {
     "data": {
      "image/png": "[encoded data removed]",
      "text/plain": [
       "<Figure size 864x432 with 2 Axes>"
      ]
     },
     "metadata": {
      "needs_background": "light"
     },
     "output_type": "display_data"
    }
   ],
   "source": [
    "LST_all = {}\n",
    "\n",
    "time_all = pd.date_range('1870-01-01', '2100-01-01', freq='YS')\n",
    "time_all = time_all + pd.Timedelta(26, unit='w') - pd.Timedelta(1, unit='d')\n",
    "\n",
    "fig=plt.figure(figsize=(12,6))\n",
    "\n",
    "### set boundaries for y-axis\n",
    "y_min = -2.0\n",
    "y_max = 12.0\n",
    "plt.ylim([y_min,y_max])\n",
    "\n",
    "##create legend\n",
    "obs_lg = mpatches.Patch(color=\"k\", label=\"Observations (BEST & GISS)\")\n",
    "runs_lg = mpatches.Patch(color=\"#377eb8\", label=\"CMIP6 models (averaged)\")\n",
    "\n",
    "\n",
    "for model in models:\n",
    "        LST_all[model] = np.concatenate((LST_hist_mean[model], LST_mean[model]))\n",
    "        plt.plot(time_all, LST_all[model], color='#377eb8',lw=0.5,alpha=0.6)\n",
    "\n",
    "for dataset in datasets:\n",
    "    plt.plot(time_obs[dataset][7], obs_mon[dataset][7], color=\"k\", alpha=0.35)\n",
    "\n",
    "plt.margins(0,0)\n",
    "plt.grid(axis='y', alpha=0.5)\n",
    "plt.title('Global land (July)')\n",
    "plt.xlabel('Year [ - ]')\n",
    "plt.ylabel('Temperature [°C]')\n",
    "leg = plt.legend(handles=[obs_lg,runs_lg], loc=\"lower right\", prop={'size': 10})\n",
    "\n",
    "ax_sub = fig.add_axes([0.15, 0.65, 0.2, 0.2],projection=ccrs.Robinson(central_longitude=0))\n",
    "mesh_srex = ax_sub.pcolormesh(lon_pc, lat_pc, idx_l_reg_gl, cmap=cmap_srex,norm=norm_srex,transform=ccrs.PlateCarree(),rasterized=True)\n",
    "ax_sub.coastlines(lw=0.5)\n",
    "ax_sub.add_geometries(df_srex.geometry.values, crs=ccrs.PlateCarree(), facecolor='none', edgecolor='k',lw=0.5)\n",
    "\n",
    "plt.show()"
   ]
  },
  {
   "cell_type": "code",
   "execution_count": null,
   "id": "8a432aa2",
   "metadata": {},
   "outputs": [],
   "source": []
  }
 ],
 "metadata": {
  "kernelspec": {
   "display_name": "Python 3 (ipykernel)",
   "language": "python",
   "name": "python3"
  },
  "language_info": {
   "codemirror_mode": {
    "name": "ipython",
    "version": 3
   },
   "file_extension": ".py",
   "mimetype": "text/x-python",
   "name": "python",
   "nbconvert_exporter": "python",
   "pygments_lexer": "ipython3",
   "version": "3.10.4"
  }
 },
 "nbformat": 4,
 "nbformat_minor": 5
}
