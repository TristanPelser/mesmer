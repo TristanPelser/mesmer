{
 "cells": [
  {
   "cell_type": "code",
   "execution_count": 1,
   "id": "74ebbd78",
   "metadata": {},
   "outputs": [
    {
     "name": "stderr",
     "output_type": "stream",
     "text": [
      "UsageError: Line magic function `%` not found.\n"
     ]
    }
   ],
   "source": [
    "% matplotlib inline\n",
    "\n",
    "## general\n",
    "import numpy as np\n",
    "import pandas as pd\n",
    "import xarray as xr\n",
    "import copy as copy\n",
    "import numpy.ma as ma\n",
    "from itertools import compress\n",
    "from sklearn.externals import joblib\n",
    "\n",
    "## plotting\n",
    "import matplotlib.pyplot as plt\n",
    "from matplotlib.colors import from_levels_and_colors\n",
    "from matplotlib.lines import Line2D \n",
    "import cartopy.crs as ccrs\n",
    "from matplotlib.colors import LogNorm\n",
    "from matplotlib.ticker import FormatStrFormatter\n",
    "\n",
    "## statistics\n",
    "from statsmodels.nonparametric.smoothers_lowess import lowess # lowess filter\n",
    "from sklearn.linear_model import LinearRegression\n",
    "from scipy.stats import pearsonr\n",
    "\n",
    "\n",
    "## my stuff\n",
    "from tools.loading import load_data_obs,load_data_single_mod"
   ]
  },
  {
   "cell_type": "code",
   "execution_count": 2,
   "id": "b01f2937",
   "metadata": {},
   "outputs": [
    {
     "name": "stdout",
     "output_type": "stream",
     "text": [
      "38\n"
     ]
    }
   ],
   "source": [
    "models = ['ACCESS-CM2','ACCESS-ESM1-5','BCC-CSM2-MR','CAMS-CSM1-0','CanESM5', 'CAS-ESM2-0', 'CESM2-WACCM', 'CIESM',\n",
    "          'CMCC-CM2-SR5', 'CMCC-ESM2', 'CNRM-CM6-1','CNRM-CM6-1-HR', 'CNRM-ESM2-1', 'E3SM-1-0', 'EC-Earth3','EC-Earth3-Veg',\n",
    "          'FGOALS-f3-L', 'FGOALS-g3-L', 'FIO-ESM-2-0','GFDL-CM4',\n",
    "          'GFDL-ESM4', 'GISS-E2-1-H', 'HadGEM3-GC31-LL','INM-CM4-8','INM-CM5-0','IPSL-CM6A-LR', 'IPSL-CM5A2-INCA', 'KIOST-ESM', \n",
    "          'MIROC6','MIROC-ES2L','MPI-ESM1-2-HR',\n",
    "          'MPI-ESM1-2-LR','MRI-ESM2-0','NESM3','NorESM2-LM', 'SAM0-UNICON', 'TaiESM1', 'UKESM1-0-LL']\n",
    "\n",
    "print(len(models))"
   ]
  },
  {
   "cell_type": "code",
   "execution_count": null,
   "id": "a9f61b7c",
   "metadata": {},
   "outputs": [],
   "source": []
  }
 ],
 "metadata": {
  "kernelspec": {
   "display_name": "Python 3 (ipykernel)",
   "language": "python",
   "name": "python3"
  },
  "language_info": {
   "codemirror_mode": {
    "name": "ipython",
    "version": 3
   },
   "file_extension": ".py",
   "mimetype": "text/x-python",
   "name": "python",
   "nbconvert_exporter": "python",
   "pygments_lexer": "ipython3",
   "version": "3.7.7"
  }
 },
 "nbformat": 4,
 "nbformat_minor": 5
}
